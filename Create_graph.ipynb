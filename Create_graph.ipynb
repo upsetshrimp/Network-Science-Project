{
 "cells": [
  {
   "cell_type": "code",
   "execution_count": 2,
   "id": "9420ceab-889b-4afe-8497-4c99d1e90032",
   "metadata": {},
   "outputs": [],
   "source": [
    "import pandas as pd\n",
    "import json\n",
    "import seaborn as sns\n",
    "import networkx as nx\n",
    "import itertools"
   ]
  },
  {
   "cell_type": "code",
   "execution_count": 40,
   "id": "ab69d527-a39f-4a6b-b73e-0a33f693f881",
   "metadata": {},
   "outputs": [],
   "source": [
    "def prepare_csv_node_list(data, threshold=0):\n",
    "    drugs = data['drugName'].value_counts()\n",
    "    drug = drugs.loc[lambda x: x>threshold]\n",
    "    conditions = data['condition'].value_counts()\n",
    "    node_list = [(\"Id\", \"label\", \"type\")]\n",
    "    i=0\n",
    "    for drug, _ in drugs.items():\n",
    "        node_list.append((f\"drug{i}\", drug, \"drug\"))\n",
    "        i += 1\n",
    "    j=0\n",
    "    for condition,_ in conditions.items():\n",
    "        node_list.append((f\"cond{j}\", condition, \"cond\"))\n",
    "        j += 1\n",
    "    return node_list\n",
    "    \n",
    "def prepare_csv_edge_list(data, threshold):\n",
    "    drug_list = df['drugName'].value_counts()\n",
    "    drug_list = drug_list.loc[lambda x: x>threshold]\n",
    "    edge_list_repeats = []\n",
    "    edge_list_singular = []\n",
    "    print(\"Progress:\\n[\", end='')\n",
    "    for drug, drug_count in drug_list.items():\n",
    "        # all of the conditions per drug\n",
    "        conds_series = data.loc[data['drugName'] == drug]['condition'].value_counts()\n",
    "\n",
    "        for cond, cond_count in conds_series.items():\n",
    "            # filter df per condition to get df with only the same condition and drug in the loop\n",
    "            filtered_df = data.loc[(data['drugName'] == drug) & (data['condition'] == cond)]\n",
    "            # for the long version, iterate over all instances\n",
    "            for index, row in filtered_df.iterrows():\n",
    "                edge_list_repeats.append((row[\"drugName\"], row[\"condition\"], row[\"rating\"], row[\"usefulCount\"]))       \n",
    "            sum = filtered_df['rating'].sum()\n",
    "            avg = sum / filtered_df.shape[0]\n",
    "            # short version with no repeats\n",
    "            edge_list_singular.append((drug, cond, cond_count, avg))\n",
    "        print(\".\", end='')\n",
    "    print(\"]\\nDone!\")\n",
    "    return (edge_list_singular, edge_list_repeats)"
   ]
  },
  {
   "cell_type": "code",
   "execution_count": 3,
   "id": "50423d20-b681-45dc-ade0-27df4eb1f78c",
   "metadata": {},
   "outputs": [
    {
     "name": "stdout",
     "output_type": "stream",
     "text": [
      "removed 900 rows\n"
     ]
    },
    {
     "data": {
      "text/html": [
       "<div>\n",
       "<style scoped>\n",
       "    .dataframe tbody tr th:only-of-type {\n",
       "        vertical-align: middle;\n",
       "    }\n",
       "\n",
       "    .dataframe tbody tr th {\n",
       "        vertical-align: top;\n",
       "    }\n",
       "\n",
       "    .dataframe thead th {\n",
       "        text-align: right;\n",
       "    }\n",
       "</style>\n",
       "<table border=\"1\" class=\"dataframe\">\n",
       "  <thead>\n",
       "    <tr style=\"text-align: right;\">\n",
       "      <th></th>\n",
       "      <th>drugName</th>\n",
       "      <th>condition</th>\n",
       "      <th>review</th>\n",
       "      <th>rating</th>\n",
       "      <th>date</th>\n",
       "      <th>usefulCount</th>\n",
       "    </tr>\n",
       "  </thead>\n",
       "  <tbody>\n",
       "    <tr>\n",
       "      <th>0</th>\n",
       "      <td>Valsartan</td>\n",
       "      <td>Left Ventricular Dysfunction</td>\n",
       "      <td>\"It has no side effect, I take it in combinati...</td>\n",
       "      <td>9.0</td>\n",
       "      <td>May 20, 2012</td>\n",
       "      <td>27</td>\n",
       "    </tr>\n",
       "    <tr>\n",
       "      <th>1</th>\n",
       "      <td>Guanfacine</td>\n",
       "      <td>ADHD</td>\n",
       "      <td>\"My son is halfway through his fourth week of ...</td>\n",
       "      <td>8.0</td>\n",
       "      <td>April 27, 2010</td>\n",
       "      <td>192</td>\n",
       "    </tr>\n",
       "    <tr>\n",
       "      <th>2</th>\n",
       "      <td>Lybrel</td>\n",
       "      <td>Birth Control</td>\n",
       "      <td>\"I used to take another oral contraceptive, wh...</td>\n",
       "      <td>5.0</td>\n",
       "      <td>December 14, 2009</td>\n",
       "      <td>17</td>\n",
       "    </tr>\n",
       "    <tr>\n",
       "      <th>3</th>\n",
       "      <td>Ortho Evra</td>\n",
       "      <td>Birth Control</td>\n",
       "      <td>\"This is my first time using any form of birth...</td>\n",
       "      <td>8.0</td>\n",
       "      <td>November 3, 2015</td>\n",
       "      <td>10</td>\n",
       "    </tr>\n",
       "    <tr>\n",
       "      <th>4</th>\n",
       "      <td>Buprenorphine / naloxone</td>\n",
       "      <td>Opiate Dependence</td>\n",
       "      <td>\"Suboxone has completely turned my life around...</td>\n",
       "      <td>9.0</td>\n",
       "      <td>November 27, 2016</td>\n",
       "      <td>37</td>\n",
       "    </tr>\n",
       "    <tr>\n",
       "      <th>...</th>\n",
       "      <td>...</td>\n",
       "      <td>...</td>\n",
       "      <td>...</td>\n",
       "      <td>...</td>\n",
       "      <td>...</td>\n",
       "      <td>...</td>\n",
       "    </tr>\n",
       "    <tr>\n",
       "      <th>161292</th>\n",
       "      <td>Campral</td>\n",
       "      <td>Alcohol Dependence</td>\n",
       "      <td>\"I wrote my first report in Mid-October of 201...</td>\n",
       "      <td>10.0</td>\n",
       "      <td>May 31, 2015</td>\n",
       "      <td>125</td>\n",
       "    </tr>\n",
       "    <tr>\n",
       "      <th>161293</th>\n",
       "      <td>Metoclopramide</td>\n",
       "      <td>Nausea/Vomiting</td>\n",
       "      <td>\"I was given this in IV before surgey. I immed...</td>\n",
       "      <td>1.0</td>\n",
       "      <td>November 1, 2011</td>\n",
       "      <td>34</td>\n",
       "    </tr>\n",
       "    <tr>\n",
       "      <th>161294</th>\n",
       "      <td>Orencia</td>\n",
       "      <td>Rheumatoid Arthritis</td>\n",
       "      <td>\"Limited improvement after 4 months, developed...</td>\n",
       "      <td>2.0</td>\n",
       "      <td>March 15, 2014</td>\n",
       "      <td>35</td>\n",
       "    </tr>\n",
       "    <tr>\n",
       "      <th>161295</th>\n",
       "      <td>Thyroid desiccated</td>\n",
       "      <td>Underactive Thyroid</td>\n",
       "      <td>\"I&amp;#039;ve been on thyroid medication 49 years...</td>\n",
       "      <td>10.0</td>\n",
       "      <td>September 19, 2015</td>\n",
       "      <td>79</td>\n",
       "    </tr>\n",
       "    <tr>\n",
       "      <th>161296</th>\n",
       "      <td>Lubiprostone</td>\n",
       "      <td>Constipation, Chronic</td>\n",
       "      <td>\"I&amp;#039;ve had chronic constipation all my adu...</td>\n",
       "      <td>9.0</td>\n",
       "      <td>December 13, 2014</td>\n",
       "      <td>116</td>\n",
       "    </tr>\n",
       "  </tbody>\n",
       "</table>\n",
       "<p>160397 rows × 6 columns</p>\n",
       "</div>"
      ],
      "text/plain": [
       "                        drugName                     condition  \\\n",
       "0                      Valsartan  Left Ventricular Dysfunction   \n",
       "1                     Guanfacine                          ADHD   \n",
       "2                         Lybrel                 Birth Control   \n",
       "3                     Ortho Evra                 Birth Control   \n",
       "4       Buprenorphine / naloxone             Opiate Dependence   \n",
       "...                          ...                           ...   \n",
       "161292                   Campral            Alcohol Dependence   \n",
       "161293            Metoclopramide               Nausea/Vomiting   \n",
       "161294                   Orencia          Rheumatoid Arthritis   \n",
       "161295        Thyroid desiccated           Underactive Thyroid   \n",
       "161296              Lubiprostone         Constipation, Chronic   \n",
       "\n",
       "                                                   review  rating  \\\n",
       "0       \"It has no side effect, I take it in combinati...     9.0   \n",
       "1       \"My son is halfway through his fourth week of ...     8.0   \n",
       "2       \"I used to take another oral contraceptive, wh...     5.0   \n",
       "3       \"This is my first time using any form of birth...     8.0   \n",
       "4       \"Suboxone has completely turned my life around...     9.0   \n",
       "...                                                   ...     ...   \n",
       "161292  \"I wrote my first report in Mid-October of 201...    10.0   \n",
       "161293  \"I was given this in IV before surgey. I immed...     1.0   \n",
       "161294  \"Limited improvement after 4 months, developed...     2.0   \n",
       "161295  \"I&#039;ve been on thyroid medication 49 years...    10.0   \n",
       "161296  \"I&#039;ve had chronic constipation all my adu...     9.0   \n",
       "\n",
       "                      date  usefulCount  \n",
       "0             May 20, 2012           27  \n",
       "1           April 27, 2010          192  \n",
       "2        December 14, 2009           17  \n",
       "3         November 3, 2015           10  \n",
       "4        November 27, 2016           37  \n",
       "...                    ...          ...  \n",
       "161292        May 31, 2015          125  \n",
       "161293    November 1, 2011           34  \n",
       "161294      March 15, 2014           35  \n",
       "161295  September 19, 2015           79  \n",
       "161296   December 13, 2014          116  \n",
       "\n",
       "[160397 rows x 6 columns]"
      ]
     },
     "execution_count": 3,
     "metadata": {},
     "output_type": "execute_result"
    }
   ],
   "source": [
    "with open('train.jsonl') as f:\n",
    "    df_raw = pd.DataFrame(json.loads(line) for line in f)\n",
    "df_raw.drop('Unnamed: 0', axis=1, inplace=True)\n",
    "df = df_raw.drop(df_raw[df_raw['condition'].str.contains(\"<\", na=False)].index)\n",
    "print(f\"removed {df_raw.shape[0]-df.shape[0]} rows\")\n",
    "df"
   ]
  },
  {
   "cell_type": "code",
   "execution_count": 54,
   "id": "3ac8b71d-278c-4e16-a394-372ddadacee7",
   "metadata": {},
   "outputs": [
    {
     "data": {
      "text/plain": [
       "Levonorgestrel                       3657\n",
       "Etonogestrel                         3336\n",
       "Ethinyl estradiol / norethindrone    2850\n",
       "Nexplanon                            2149\n",
       "Ethinyl estradiol / norgestimate     2117\n",
       "                                     ... \n",
       "Ondansetron                           203\n",
       "Lutera                                203\n",
       "Seasonique                            203\n",
       "Suvorexant                            201\n",
       "Wellbutrin XL                         201\n",
       "Name: drugName, Length: 179, dtype: int64"
      ]
     },
     "execution_count": 54,
     "metadata": {},
     "output_type": "execute_result"
    }
   ],
   "source": [
    "ranked_drugs = df['drugName'].value_counts()\n",
    "#conditions = df['condition'].value_counts()\n",
    "# filter above certain threshhold \n",
    "#thresh_ranked_drugs = ranked_drugs.loc[lambda x: x>100]\n",
    "ranked_drugs.loc[lambda x: x>200]"
   ]
  },
  {
   "cell_type": "code",
   "execution_count": 44,
   "id": "05161655-2506-49af-a541-e8817aa737d7",
   "metadata": {},
   "outputs": [
    {
     "name": "stdout",
     "output_type": "stream",
     "text": [
      "4229\n",
      "('Id', 'label', 'type')\n",
      "('drug0', 'Levonorgestrel', 'drug')\n",
      "('drug1', 'Etonogestrel', 'drug')\n",
      "('drug2', 'Ethinyl estradiol / norethindrone', 'drug')\n",
      "('drug3', 'Nexplanon', 'drug')\n",
      "('drug4', 'Ethinyl estradiol / norgestimate', 'drug')\n",
      "('drug5', 'Ethinyl estradiol / levonorgestrel', 'drug')\n",
      "('drug6', 'Phentermine', 'drug')\n",
      "('drug7', 'Sertraline', 'drug')\n",
      "('drug8', 'Escitalopram', 'drug')\n",
      "('drug9', 'Mirena', 'drug')\n",
      "('drug10', 'Implanon', 'drug')\n",
      "('drug11', 'Gabapentin', 'drug')\n",
      "('drug12', 'Bupropion', 'drug')\n",
      "('drug13', 'Venlafaxine', 'drug')\n",
      "('drug14', 'Miconazole', 'drug')\n",
      "('drug15', 'Medroxyprogesterone', 'drug')\n",
      "('drug16', 'Citalopram', 'drug')\n",
      "('drug17', 'Bupropion / naltrexone', 'drug')\n",
      "('drug18', 'Lexapro', 'drug')\n",
      "('drug19', 'Duloxetine', 'drug')\n",
      "('drug20', 'Metronidazole', 'drug')\n",
      "('drug21', 'Contrave', 'drug')\n",
      "('drug22', 'Drospirenone / ethinyl estradiol', 'drug')\n",
      "('drug23', 'Cymbalta', 'drug')\n",
      "('drug24', 'Depo-Provera', 'drug')\n",
      "('drug25', 'Quetiapine', 'drug')\n",
      "('drug26', 'Clonazepam', 'drug')\n",
      "('drug27', 'Skyla', 'drug')\n",
      "('drug28', 'Tramadol', 'drug')\n"
     ]
    }
   ],
   "source": [
    "node_list = prepare_csv_node_list(df, 500)\n",
    "print(len(node_list))\n",
    "for i in range(30):\n",
    "    print(node_list[i])"
   ]
  },
  {
   "cell_type": "code",
   "execution_count": null,
   "id": "ff9d1d25-83e2-4fbd-8cc6-88a7736d306f",
   "metadata": {},
   "outputs": [],
   "source": [
    "# Takes a while\n",
    "edge_list_repeats = []\n",
    "edge_list_singular = []\n",
    "print(\"Progress:\")\n",
    "for drug, drug_count in ranked_drugs.items():\n",
    "    # all of the conditions per drug\n",
    "    conds_series = df.loc[df['drugName'] == drug]['condition'].value_counts()\n",
    "    \n",
    "    for cond, cond_count in conds_series.items():\n",
    "        # filter df per condition to get df with only the same condition and drug in the loop\n",
    "        \n",
    "        filtered_df = df.loc[(df['drugName'] == drug) & (df['condition'] == cond)]\n",
    "        for index, row in filtered_df.iterrows():\n",
    "            edge_list_repeats.append((row[\"drugName\"], row[\"condition\"], row[\"rating\"], row[\"usefulCount\"]))\n",
    "        sum = filtered_df['rating'].sum()\n",
    "        avg = sum / filtered_df.shape[0]\n",
    "        \n",
    "        edge_list_singular.append((drug, cond, cond_count, avg))\n",
    "    print(\".\", end='')\n",
    "print(\"Done!\")"
   ]
  },
  {
   "cell_type": "code",
   "execution_count": 31,
   "id": "976c5962-04f5-4b89-bb77-f28940fb808e",
   "metadata": {},
   "outputs": [
    {
     "name": "stdout",
     "output_type": "stream",
     "text": [
      "Progress:\n",
      "[.........................................................................................................................................................................................................................................................................................................................................................................................................................................................................................................................................................................................................................................................................................................................................................................................................................................................................................................................................................................................................................................................................................................................................................................................................................................................................................................................................................................................................................................................................................................................................................................................................................................................................................................................................................................................................................................................................................................................................................................................................................................................................................................................................................................................................................................................................................................................................................................................................................................................................................................................................................................................................................................................................................................................................................................................................................................................................................................................................................................................................................................................................................................................................................................................................................................................................................................................................................................................................................................................................................................................................................]\n",
      "Done!\n"
     ]
    }
   ],
   "source": [
    "filtered_csv_list_short, filtered_csv_list_long = prepare_csv_list(df, 200)"
   ]
  },
  {
   "cell_type": "code",
   "execution_count": 33,
   "id": "a8e34295-568e-4ed0-bdee-5d3c12187186",
   "metadata": {},
   "outputs": [
    {
     "data": {
      "text/plain": [
       "159498"
      ]
     },
     "execution_count": 33,
     "metadata": {},
     "output_type": "execute_result"
    }
   ],
   "source": [
    "len(filtered_csv_list_long)"
   ]
  },
  {
   "cell_type": "code",
   "execution_count": 23,
   "id": "c7bbf1f1-05ee-43af-bf74-ee21076e88f2",
   "metadata": {},
   "outputs": [],
   "source": [
    "csv_list_long = [(\"Id\", \"drug\", \"condition\", \"rating\", \"usefulCount\")]\n",
    "csv_list_short = [(\"Id\", \"drug\", \"condition\", \"numOfInstances\", \"averageRating\")]\n",
    "for i, row in enumerate(edge_list_repeats):\n",
    "    csv_list_long.append((i, row[0], row[1], row[2], row[3]))\n",
    "for i, row in enumerate(edge_list_singular):\n",
    "    csv_list_short.append((i, row[0], row[1], row[2], row[3]))"
   ]
  },
  {
   "cell_type": "code",
   "execution_count": 24,
   "id": "0b083baf-5b4d-497c-bbc2-032a6732a1a8",
   "metadata": {},
   "outputs": [
    {
     "name": "stdout",
     "output_type": "stream",
     "text": [
      "('Id', 'drug', 'condition', 'rating', 'usefulCount')\n",
      "(0, 'Levonorgestrel', 'Birth Control', 1.0, 10)\n",
      "(1, 'Levonorgestrel', 'Birth Control', 10.0, 1)\n",
      "(2, 'Levonorgestrel', 'Birth Control', 2.0, 2)\n",
      "(3, 'Levonorgestrel', 'Birth Control', 3.0, 4)\n",
      "(4, 'Levonorgestrel', 'Birth Control', 10.0, 1)\n",
      "(5, 'Levonorgestrel', 'Birth Control', 4.0, 3)\n",
      "(6, 'Levonorgestrel', 'Birth Control', 10.0, 2)\n",
      "(7, 'Levonorgestrel', 'Birth Control', 7.0, 1)\n",
      "(8, 'Levonorgestrel', 'Birth Control', 9.0, 2)\n",
      "(9, 'Levonorgestrel', 'Birth Control', 5.0, 4)\n",
      "(10, 'Levonorgestrel', 'Birth Control', 6.0, 6)\n",
      "(11, 'Levonorgestrel', 'Birth Control', 6.0, 7)\n",
      "(12, 'Levonorgestrel', 'Birth Control', 10.0, 2)\n",
      "(13, 'Levonorgestrel', 'Birth Control', 10.0, 11)\n",
      "(14, 'Levonorgestrel', 'Birth Control', 8.0, 3)\n",
      "(15, 'Levonorgestrel', 'Birth Control', 1.0, 1)\n",
      "(16, 'Levonorgestrel', 'Birth Control', 1.0, 4)\n",
      "(17, 'Levonorgestrel', 'Birth Control', 8.0, 21)\n",
      "(18, 'Levonorgestrel', 'Birth Control', 6.0, 13)\n",
      "('Id', 'drug', 'condition', 'numOfInstances', 'averageRating')\n",
      "(0, 'Levonorgestrel', 'Birth Control', 2129, 7.061061531235322)\n",
      "(1, 'Levonorgestrel', 'Emergency Contraception', 1221, 8.472563472563472)\n",
      "(2, 'Levonorgestrel', 'Abnormal Uterine Bleeding', 276, 5.322463768115942)\n",
      "(3, 'Levonorgestrel', 'Not Listed / Othe', 5, 7.0)\n",
      "(4, 'Etonogestrel', 'Birth Control', 3314, 5.808992154496077)\n",
      "(5, 'Etonogestrel', 'Endometriosis', 7, 4.0)\n",
      "(6, 'Ethinyl estradiol / norethindrone', 'Birth Control', 2337, 5.658536585365853)\n",
      "(7, 'Ethinyl estradiol / norethindrone', 'Acne', 129, 3.9069767441860463)\n",
      "(8, 'Ethinyl estradiol / norethindrone', 'Menstrual Disorders', 93, 5.494623655913978)\n",
      "(9, 'Ethinyl estradiol / norethindrone', 'Abnormal Uterine Bleeding', 85, 5.435294117647059)\n",
      "(10, 'Ethinyl estradiol / norethindrone', 'Polycystic Ovary Syndrome', 53, 6.320754716981132)\n",
      "(11, 'Ethinyl estradiol / norethindrone', 'Endometriosis', 43, 6.465116279069767)\n",
      "(12, 'Ethinyl estradiol / norethindrone', 'Postmenopausal Symptoms', 5, 6.4)\n",
      "(13, 'Ethinyl estradiol / norethindrone', 'Not Listed / Othe', 5, 4.8)\n",
      "(14, 'Nexplanon', 'Birth Control', 2149, 5.679851093531875)\n",
      "(15, 'Ethinyl estradiol / norgestimate', 'Birth Control', 1580, 5.9335443037974684)\n",
      "(16, 'Ethinyl estradiol / norgestimate', 'Acne', 215, 5.897674418604651)\n",
      "(17, 'Ethinyl estradiol / norgestimate', 'Abnormal Uterine Bleeding', 148, 4.45945945945946)\n",
      "(18, 'Ethinyl estradiol / norgestimate', 'Ovarian Cysts', 54, 6.407407407407407)\n"
     ]
    }
   ],
   "source": [
    "for i in range(20):\n",
    "    print(csv_list_long[i])\n",
    "for i in range(20):\n",
    "    print(csv_list_short[i])"
   ]
  },
  {
   "cell_type": "code",
   "execution_count": 25,
   "id": "f9efd1ec-2ff4-41f0-881e-f95a7b568b56",
   "metadata": {},
   "outputs": [],
   "source": [
    "import csv\n",
    "with open('gephi_long_1.csv', 'w', encoding='UTF8', newline='') as f:\n",
    "    writer = csv.writer(f)\n",
    "    writer.writerows(csv_list_long)\n",
    "with open('gephi_short_1.csv', 'w', encoding='UTF8', newline='') as f:\n",
    "    writer = csv.writer(f)\n",
    "    writer.writerows(csv_list_short)\n"
   ]
  },
  {
   "cell_type": "code",
   "execution_count": 22,
   "id": "cb8ee780-743a-4209-be20-0f428e40eb96",
   "metadata": {},
   "outputs": [
    {
     "ename": "NameError",
     "evalue": "name 'edge_list' is not defined",
     "output_type": "error",
     "traceback": [
      "\u001b[1;31m---------------------------------------------------------------------------\u001b[0m",
      "\u001b[1;31mNameError\u001b[0m                                 Traceback (most recent call last)",
      "Cell \u001b[1;32mIn [22], line 5\u001b[0m\n\u001b[0;32m      1\u001b[0m \u001b[38;5;28;01mimport\u001b[39;00m \u001b[38;5;21;01mjson\u001b[39;00m\n\u001b[0;32m      2\u001b[0m graph_data \u001b[38;5;241m=\u001b[39m {\n\u001b[0;32m      3\u001b[0m     \u001b[38;5;124m'\u001b[39m\u001b[38;5;124mdrug\u001b[39m\u001b[38;5;124m'\u001b[39m : ranked_drugs\u001b[38;5;241m.\u001b[39maxes[\u001b[38;5;241m0\u001b[39m]\u001b[38;5;241m.\u001b[39mvalues\u001b[38;5;241m.\u001b[39mtolist(),\n\u001b[0;32m      4\u001b[0m     \u001b[38;5;124m'\u001b[39m\u001b[38;5;124mcondition\u001b[39m\u001b[38;5;124m'\u001b[39m : conditions\u001b[38;5;241m.\u001b[39maxes[\u001b[38;5;241m0\u001b[39m]\u001b[38;5;241m.\u001b[39mvalues\u001b[38;5;241m.\u001b[39mtolist(),\n\u001b[1;32m----> 5\u001b[0m     \u001b[38;5;124m'\u001b[39m\u001b[38;5;124medges\u001b[39m\u001b[38;5;124m'\u001b[39m : \u001b[43medge_list\u001b[49m\n\u001b[0;32m      6\u001b[0m }\n\u001b[0;32m      7\u001b[0m \u001b[38;5;28;01mwith\u001b[39;00m \u001b[38;5;28mopen\u001b[39m(\u001b[38;5;124m'\u001b[39m\u001b[38;5;124mgraph_dict.json\u001b[39m\u001b[38;5;124m'\u001b[39m, \u001b[38;5;124m'\u001b[39m\u001b[38;5;124mw\u001b[39m\u001b[38;5;124m'\u001b[39m) \u001b[38;5;28;01mas\u001b[39;00m f:\n\u001b[0;32m      8\u001b[0m     f\u001b[38;5;241m.\u001b[39mwrite(json\u001b[38;5;241m.\u001b[39mdumps(graph_data))\n",
      "\u001b[1;31mNameError\u001b[0m: name 'edge_list' is not defined"
     ]
    }
   ],
   "source": [
    "import json\n",
    "graph_data = {\n",
    "    'drug' : ranked_drugs.axes[0].values.tolist(),\n",
    "    'condition' : conditions.axes[0].values.tolist(),\n",
    "    'edges' : edge_list\n",
    "}\n",
    "with open('graph_dict.json', 'w') as f:\n",
    "    f.write(json.dumps(graph_data))"
   ]
  },
  {
   "cell_type": "code",
   "execution_count": null,
   "id": "03556956-5c80-4681-9fc2-169384d7d831",
   "metadata": {},
   "outputs": [],
   "source": [
    "import csv\n",
    "for edge in edge_l "
   ]
  },
  {
   "cell_type": "code",
   "execution_count": null,
   "id": "2da23ea2-40c6-4f84-bab3-ad5d71f35b7d",
   "metadata": {},
   "outputs": [],
   "source": []
  }
 ],
 "metadata": {
  "kernelspec": {
   "display_name": "Python 3 (ipykernel)",
   "language": "python",
   "name": "python3"
  },
  "language_info": {
   "codemirror_mode": {
    "name": "ipython",
    "version": 3
   },
   "file_extension": ".py",
   "mimetype": "text/x-python",
   "name": "python",
   "nbconvert_exporter": "python",
   "pygments_lexer": "ipython3",
   "version": "3.8.3"
  }
 },
 "nbformat": 4,
 "nbformat_minor": 5
}
